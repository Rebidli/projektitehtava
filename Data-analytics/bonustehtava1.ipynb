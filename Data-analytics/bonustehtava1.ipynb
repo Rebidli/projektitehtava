{
 "cells": [
  {
   "cell_type": "code",
   "execution_count": 60,
   "metadata": {},
   "outputs": [],
   "source": [
    "data = {\n",
    "    \"discrete\": [1, 2, 3, 4, 5, 10, 12, 14, 15, 17, 19, 21, 21, 15, 12, 10, 2],\n",
    "    \"continuous\": [1.5, 2.5, 3.5, 4.5, 5.5, 6.4, 7.8, 8.8, 9.4, 2.5, 3.5, 6.4],\n",
    "    \"nominal\": [\"Red\", \"Blue\", \"Green\", \"Black\", \"White\", \"Pink\", \"Blue\", \"Green\" ],\n",
    "    \"ordinal\": [\"low\", \"medium\", \"high\", \"low\", \"medium\"]\n",
    "}"
   ]
  },
  {
   "cell_type": "code",
   "execution_count": null,
   "metadata": {},
   "outputs": [],
   "source": [
    "def categoria_mode(data_dict, column_name):\n",
    "    values = data_dict[column_name]\n",
    "    return Counter(values).most_common(1)[0][0]"
   ]
  },
  {
   "cell_type": "code",
   "execution_count": 62,
   "metadata": {},
   "outputs": [
    {
     "name": "stdout",
     "output_type": "stream",
     "text": [
      "Mode of discrete: 2\n",
      "Mode of continuous: 2.5\n",
      "Mode of nominal: Blue\n",
      "Mode of ordinal: low\n"
     ]
    }
   ],
   "source": [
    "print(\"Mode of discrete:\", categoria_mode(data, \"discrete\")) \n",
    "print(\"Mode of continuous:\", categoria_mode(data, \"continuous\"))  \n",
    "print(\"Mode of nominal:\", categoria_mode(data, \"nominal\"))\n",
    "print(\"Mode of ordinal:\", categoria_mode(data, \"ordinal\"))\n",
    "    "
   ]
  }
 ],
 "metadata": {
  "kernelspec": {
   "display_name": "Python 3",
   "language": "python",
   "name": "python3"
  },
  "language_info": {
   "codemirror_mode": {
    "name": "ipython",
    "version": 3
   },
   "file_extension": ".py",
   "mimetype": "text/x-python",
   "name": "python",
   "nbconvert_exporter": "python",
   "pygments_lexer": "ipython3",
   "version": "3.13.2"
  }
 },
 "nbformat": 4,
 "nbformat_minor": 2
}
