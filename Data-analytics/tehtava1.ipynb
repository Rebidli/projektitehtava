{
 "cells": [
  {
   "cell_type": "code",
   "execution_count": 7,
   "metadata": {},
   "outputs": [],
   "source": [
    "data = {\n",
    "    \"discrete\": [1, 2, 3, 4, 5, 10, 12, 14, 15, 17, 19, 21],\n",
    "    \"continuous\": [1.5, 2.5, 3.5, 4.5, 5.5, 6.4, 7.8, 8.8, 9.4],\n",
    "    \"nominal\": [\"red\", \"blue\", \"green\", \"Black\", \"White\", \"Pink\"],\n",
    "    \"ordinal\": [\"low\", \"medium\", \"high\"]\n",
    "}"
   ]
  },
  {
   "cell_type": "code",
   "execution_count": 8,
   "metadata": {},
   "outputs": [],
   "source": [
    "def numerical_mean(data_dict, column_name):\n",
    "    values = data_dict[column_name]\n",
    "    mean_value = sum(values) / len(values)\n",
    "    return mean_value"
   ]
  },
  {
   "cell_type": "code",
   "execution_count": 9,
   "metadata": {},
   "outputs": [
    {
     "name": "stdout",
     "output_type": "stream",
     "text": [
      "Mean of discrete: 10.25\n",
      "Mean of continuous: 5.544444444444444\n"
     ]
    }
   ],
   "source": [
    "print(\"Mean of discrete:\", numerical_mean(data, \"discrete\"))\n",
    "print(\"Mean of continuous:\", numerical_mean(data, \"continuous\"))"
   ]
  }
 ],
 "metadata": {
  "kernelspec": {
   "display_name": "Python 3",
   "language": "python",
   "name": "python3"
  },
  "language_info": {
   "codemirror_mode": {
    "name": "ipython",
    "version": 3
   },
   "file_extension": ".py",
   "mimetype": "text/x-python",
   "name": "python",
   "nbconvert_exporter": "python",
   "pygments_lexer": "ipython3",
   "version": "3.13.2"
  }
 },
 "nbformat": 4,
 "nbformat_minor": 2
}
